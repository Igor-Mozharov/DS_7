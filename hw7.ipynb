{
 "cells": [
  {
   "cell_type": "code",
   "execution_count": 1,
   "id": "74649037",
   "metadata": {},
   "outputs": [],
   "source": [
    "from surprise import Dataset, SVD, NMF, SVDpp\n",
    "from surprise.model_selection import cross_validate"
   ]
  },
  {
   "cell_type": "code",
   "execution_count": 2,
   "id": "4d85ab00",
   "metadata": {},
   "outputs": [],
   "source": [
    "data = Dataset.load_builtin('ml-100k')"
   ]
  },
  {
   "cell_type": "code",
   "execution_count": 3,
   "id": "f3387d6c",
   "metadata": {},
   "outputs": [
    {
     "name": "stdout",
     "output_type": "stream",
     "text": [
      "Evaluating RMSE, MAE of algorithm SVD on 5 split(s).\n",
      "\n",
      "                  Fold 1  Fold 2  Fold 3  Fold 4  Fold 5  Mean    Std     \n",
      "RMSE (testset)    0.9380  0.9390  0.9338  0.9325  0.9392  0.9365  0.0028  \n",
      "MAE (testset)     0.7393  0.7392  0.7336  0.7359  0.7399  0.7376  0.0024  \n",
      "Fit time          0.61    0.48    0.47    0.48    0.46    0.50    0.05    \n",
      "Test time         0.06    0.07    0.08    0.08    0.05    0.07    0.01    \n"
     ]
    },
    {
     "data": {
      "text/plain": [
       "{'test_rmse': array([0.93796382, 0.9390166 , 0.93378761, 0.93249662, 0.93923675]),\n",
       " 'test_mae': array([0.73925135, 0.73922007, 0.73355432, 0.73593502, 0.73991252]),\n",
       " 'fit_time': (0.6071751117706299,\n",
       "  0.48424339294433594,\n",
       "  0.4653315544128418,\n",
       "  0.4798450469970703,\n",
       "  0.46350860595703125),\n",
       " 'test_time': (0.05569100379943848,\n",
       "  0.07421469688415527,\n",
       "  0.07523798942565918,\n",
       "  0.07663464546203613,\n",
       "  0.05267977714538574)}"
      ]
     },
     "execution_count": 3,
     "metadata": {},
     "output_type": "execute_result"
    }
   ],
   "source": [
    "model_one = SVD()\n",
    "cross_validate(model_one, data, measures=[\"RMSE\", \"MAE\"], cv=5, verbose=True )"
   ]
  },
  {
   "cell_type": "code",
   "execution_count": 4,
   "id": "815e4f1e",
   "metadata": {},
   "outputs": [
    {
     "name": "stdout",
     "output_type": "stream",
     "text": [
      "Evaluating RMSE, MAE of algorithm SVDpp on 5 split(s).\n",
      "\n",
      "                  Fold 1  Fold 2  Fold 3  Fold 4  Fold 5  Mean    Std     \n",
      "RMSE (testset)    0.9186  0.9144  0.9215  0.9245  0.9185  0.9195  0.0034  \n",
      "MAE (testset)     0.7197  0.7166  0.7217  0.7261  0.7220  0.7212  0.0031  \n",
      "Fit time          12.89   12.93   13.11   13.10   13.10   13.03   0.09    \n",
      "Test time         1.53    1.59    1.59    1.60    1.54    1.57    0.03    \n"
     ]
    },
    {
     "data": {
      "text/plain": [
       "{'test_rmse': array([0.9186429 , 0.91439012, 0.92145306, 0.92452054, 0.9184671 ]),\n",
       " 'test_mae': array([0.71971644, 0.71659346, 0.72167717, 0.72608598, 0.72202463]),\n",
       " 'fit_time': (12.894489288330078,\n",
       "  12.927969694137573,\n",
       "  13.108659029006958,\n",
       "  13.102510452270508,\n",
       "  13.098207235336304),\n",
       " 'test_time': (1.5329809188842773,\n",
       "  1.5914831161499023,\n",
       "  1.592573881149292,\n",
       "  1.6029512882232666,\n",
       "  1.5357816219329834)}"
      ]
     },
     "execution_count": 4,
     "metadata": {},
     "output_type": "execute_result"
    }
   ],
   "source": [
    "model_two = SVDpp()\n",
    "cross_validate(model_two, data, measures=[\"RMSE\", \"MAE\"], cv=5, verbose=True )"
   ]
  },
  {
   "cell_type": "code",
   "execution_count": 5,
   "id": "b533bd1f",
   "metadata": {},
   "outputs": [
    {
     "name": "stdout",
     "output_type": "stream",
     "text": [
      "Evaluating RMSE, MAE of algorithm NMF on 5 split(s).\n",
      "\n",
      "                  Fold 1  Fold 2  Fold 3  Fold 4  Fold 5  Mean    Std     \n",
      "RMSE (testset)    0.9602  0.9612  0.9712  0.9619  0.9583  0.9626  0.0045  \n",
      "MAE (testset)     0.7554  0.7543  0.7658  0.7554  0.7531  0.7568  0.0046  \n",
      "Fit time          0.50    0.62    0.77    0.50    0.61    0.60    0.10    \n",
      "Test time         0.08    0.09    0.05    0.08    0.08    0.07    0.02    \n"
     ]
    },
    {
     "data": {
      "text/plain": [
       "{'test_rmse': array([0.96015683, 0.96117396, 0.97122441, 0.96194378, 0.95831061]),\n",
       " 'test_mae': array([0.75539897, 0.75431185, 0.76582605, 0.75542907, 0.7531087 ]),\n",
       " 'fit_time': (0.5044927597045898,\n",
       "  0.6195886135101318,\n",
       "  0.7703163623809814,\n",
       "  0.5044434070587158,\n",
       "  0.6144375801086426),\n",
       " 'test_time': (0.07765674591064453,\n",
       "  0.09037995338439941,\n",
       "  0.04505634307861328,\n",
       "  0.07714676856994629,\n",
       "  0.07994866371154785)}"
      ]
     },
     "execution_count": 5,
     "metadata": {},
     "output_type": "execute_result"
    }
   ],
   "source": [
    "modet_three = NMF()\n",
    "cross_validate(modet_three, data, measures=[\"RMSE\", \"MAE\"], cv=5, verbose=True )"
   ]
  },
  {
   "cell_type": "markdown",
   "id": "7b6c40f4",
   "metadata": {},
   "source": [
    "### NMF algorithm has best result."
   ]
  }
 ],
 "metadata": {
  "kernelspec": {
   "display_name": "Python 3 (ipykernel)",
   "language": "python",
   "name": "python3"
  },
  "language_info": {
   "codemirror_mode": {
    "name": "ipython",
    "version": 3
   },
   "file_extension": ".py",
   "mimetype": "text/x-python",
   "name": "python",
   "nbconvert_exporter": "python",
   "pygments_lexer": "ipython3",
   "version": "3.11.0rc1"
  }
 },
 "nbformat": 4,
 "nbformat_minor": 5
}
