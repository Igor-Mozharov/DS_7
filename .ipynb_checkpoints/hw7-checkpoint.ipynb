{
 "cells": [
  {
   "cell_type": "code",
   "execution_count": 19,
   "id": "74649037",
   "metadata": {},
   "outputs": [],
   "source": [
    "from surprise import Dataset, SVD, NMF, SVDpp\n",
    "from surprise.model_selection import cross_validate"
   ]
  },
  {
   "cell_type": "code",
   "execution_count": 4,
   "id": "4d85ab00",
   "metadata": {},
   "outputs": [],
   "source": [
    "data = Dataset.load_builtin('ml-100k')"
   ]
  },
  {
   "cell_type": "code",
   "execution_count": 17,
   "id": "f3387d6c",
   "metadata": {},
   "outputs": [
    {
     "name": "stdout",
     "output_type": "stream",
     "text": [
      "Evaluating RMSE, MAE of algorithm SVD on 5 split(s).\n",
      "\n",
      "                  Fold 1  Fold 2  Fold 3  Fold 4  Fold 5  Mean    Std     \n",
      "RMSE (testset)    0.9304  0.9314  0.9408  0.9343  0.9424  0.9359  0.0049  \n",
      "MAE (testset)     0.7361  0.7326  0.7410  0.7359  0.7428  0.7377  0.0037  \n",
      "Fit time          0.48    0.49    0.46    0.47    0.46    0.47    0.01    \n",
      "Test time         0.09    0.05    0.09    0.05    0.09    0.07    0.02    \n"
     ]
    },
    {
     "data": {
      "text/plain": [
       "{'test_rmse': array([0.93036443, 0.93136471, 0.94080254, 0.93434652, 0.94244876]),\n",
       " 'test_mae': array([0.7360504 , 0.732634  , 0.74104131, 0.73585309, 0.7428485 ]),\n",
       " 'fit_time': (0.4802842140197754,\n",
       "  0.48510074615478516,\n",
       "  0.46277546882629395,\n",
       "  0.46700549125671387,\n",
       "  0.45946645736694336),\n",
       " 'test_time': (0.0878911018371582,\n",
       "  0.05233001708984375,\n",
       "  0.08882737159729004,\n",
       "  0.05162310600280762,\n",
       "  0.0897054672241211)}"
      ]
     },
     "execution_count": 17,
     "metadata": {},
     "output_type": "execute_result"
    }
   ],
   "source": [
    "model_one = SVD()\n",
    "cross_validate(model_one, data, measures=[\"RMSE\", \"MAE\"], cv=5, verbose=True )"
   ]
  },
  {
   "cell_type": "code",
   "execution_count": 20,
   "id": "815e4f1e",
   "metadata": {},
   "outputs": [
    {
     "name": "stdout",
     "output_type": "stream",
     "text": [
      "Evaluating RMSE, MAE of algorithm SVDpp on 5 split(s).\n",
      "\n",
      "                  Fold 1  Fold 2  Fold 3  Fold 4  Fold 5  Mean    Std     \n",
      "RMSE (testset)    0.9226  0.9197  0.9176  0.9204  0.9151  0.9191  0.0025  \n",
      "MAE (testset)     0.7238  0.7224  0.7173  0.7211  0.7159  0.7201  0.0030  \n",
      "Fit time          12.40   12.13   12.49   12.21   12.42   12.33   0.14    \n",
      "Test time         1.65    1.71    1.66    1.73    1.67    1.68    0.03    \n"
     ]
    },
    {
     "data": {
      "text/plain": [
       "{'test_rmse': array([0.92259953, 0.91968266, 0.91755356, 0.92037215, 0.9151255 ]),\n",
       " 'test_mae': array([0.72383426, 0.72235908, 0.71725648, 0.72113368, 0.71590951]),\n",
       " 'fit_time': (12.401148319244385,\n",
       "  12.133021593093872,\n",
       "  12.488888025283813,\n",
       "  12.20768427848816,\n",
       "  12.421801805496216),\n",
       " 'test_time': (1.6531858444213867,\n",
       "  1.7081060409545898,\n",
       "  1.657705545425415,\n",
       "  1.7301580905914307,\n",
       "  1.665494441986084)}"
      ]
     },
     "execution_count": 20,
     "metadata": {},
     "output_type": "execute_result"
    }
   ],
   "source": [
    "model_two = SVDpp()\n",
    "cross_validate(model_two, data, measures=[\"RMSE\", \"MAE\"], cv=5, verbose=True )"
   ]
  },
  {
   "cell_type": "code",
   "execution_count": 21,
   "id": "b533bd1f",
   "metadata": {},
   "outputs": [
    {
     "name": "stdout",
     "output_type": "stream",
     "text": [
      "Evaluating RMSE, MAE of algorithm NMF on 5 split(s).\n",
      "\n",
      "                  Fold 1  Fold 2  Fold 3  Fold 4  Fold 5  Mean    Std     \n",
      "RMSE (testset)    0.9615  0.9737  0.9615  0.9480  0.9717  0.9633  0.0092  \n",
      "MAE (testset)     0.7559  0.7672  0.7564  0.7478  0.7627  0.7580  0.0066  \n",
      "Fit time          0.66    0.68    0.67    0.49    0.49    0.60    0.09    \n",
      "Test time         0.09    0.09    0.05    0.09    0.04    0.07    0.02    \n"
     ]
    },
    {
     "data": {
      "text/plain": [
       "{'test_rmse': array([0.96148298, 0.97374516, 0.96146568, 0.94804353, 0.97171879]),\n",
       " 'test_mae': array([0.75586687, 0.76722738, 0.75638332, 0.7478422 , 0.7626757 ]),\n",
       " 'fit_time': (0.659109354019165,\n",
       "  0.681013822555542,\n",
       "  0.6694760322570801,\n",
       "  0.48778820037841797,\n",
       "  0.49124741554260254),\n",
       " 'test_time': (0.0883336067199707,\n",
       "  0.09075450897216797,\n",
       "  0.04628586769104004,\n",
       "  0.08896684646606445,\n",
       "  0.04347515106201172)}"
      ]
     },
     "execution_count": 21,
     "metadata": {},
     "output_type": "execute_result"
    }
   ],
   "source": [
    "modet_three = NMF()\n",
    "cross_validate(modet_three, data, measures=[\"RMSE\", \"MAE\"], cv=5, verbose=True )"
   ]
  },
  {
   "cell_type": "markdown",
   "id": "7b6c40f4",
   "metadata": {},
   "source": [
    "### NMF algorithm has best result."
   ]
  }
 ],
 "metadata": {
  "kernelspec": {
   "display_name": "Python 3 (ipykernel)",
   "language": "python",
   "name": "python3"
  },
  "language_info": {
   "codemirror_mode": {
    "name": "ipython",
    "version": 3
   },
   "file_extension": ".py",
   "mimetype": "text/x-python",
   "name": "python",
   "nbconvert_exporter": "python",
   "pygments_lexer": "ipython3",
   "version": "3.11.0rc1"
  }
 },
 "nbformat": 4,
 "nbformat_minor": 5
}
